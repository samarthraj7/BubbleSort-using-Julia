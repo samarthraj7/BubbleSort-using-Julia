{
 "cells": [
  {
   "cell_type": "code",
   "execution_count": 1,
   "id": "91f9b321",
   "metadata": {},
   "outputs": [
    {
     "data": {
      "text/plain": [
       "bubbleSort (generic function with 1 method)"
      ]
     },
     "execution_count": 1,
     "metadata": {},
     "output_type": "execute_result"
    }
   ],
   "source": [
    "# BubbleSort.\n",
    "\n",
    "function compare(a, b, flag)\n",
    "    if flag == false\n",
    "        return a > b ? true : false\n",
    "    elseif flag == true\n",
    "        return a < b ? true : false\n",
    "    end\n",
    "end\n",
    "\n",
    "function bubbleSort(flag, list)\n",
    "\n",
    "    numberOfSwaps = 0\n",
    "\n",
    "    numberOfComparisons = 0\n",
    "\n",
    "    len = length(list)\n",
    "\n",
    "    for i = 1:len-1\n",
    "\n",
    "        for j = 2:len\n",
    "\n",
    "            numberOfComparisons += 1\n",
    "            a = list[j-1]\n",
    "            b = list[j]\n",
    "\n",
    "            if compare(a, b, flag)\n",
    "\n",
    "                tmp = list[j-1]\n",
    "\n",
    "                list[j-1] = list[j]\n",
    "\n",
    "                list[j] = tmp\n",
    "\n",
    "                numberOfSwaps += 1\n",
    "\n",
    "            end\n",
    "\n",
    "        end\n",
    "\n",
    "    end\n",
    "\n",
    "    println(\"Number of swaps: \", numberOfSwaps)\n",
    "\n",
    "    println(\"Number of comparisons: \", numberOfComparisons)\n",
    "\n",
    "end\n"
   ]
  },
  {
   "cell_type": "code",
   "execution_count": 32,
   "id": "fbc53723",
   "metadata": {},
   "outputs": [
    {
     "name": "stdout",
     "output_type": "stream",
     "text": [
      "The Unsorted list is: \n",
      "50\n",
      "34\n",
      "30\n",
      "17\n",
      "16\n",
      "12\n"
     ]
    }
   ],
   "source": [
    "# The unsorted list is:  \n",
    "\n",
    "println(\"The Unsorted list is: \")\n",
    "for i = 1:length(listToSort)\n",
    "\n",
    "    println(listToSort[i])\n",
    "\n",
    "end\n"
   ]
  },
  {
   "cell_type": "code",
   "execution_count": 36,
   "id": "f446bc30",
   "metadata": {},
   "outputs": [
    {
     "name": "stdout",
     "output_type": "stream",
     "text": [
      "Bubble Sort\n",
      "\n",
      "For ascending order: \n",
      "Number of swaps: 4\n",
      "Number of comparisons: 25\n",
      "  0.000203 seconds (44 allocations: 1.469 KiB)\n",
      "12\n",
      "16\n",
      "17\n",
      "30\n",
      "34\n",
      "50\n",
      "\n",
      "For descending order: \n",
      "Number of swaps: 15\n",
      "Number of comparisons: 25\n",
      "  0.000124 seconds (43 allocations: 1.906 KiB)\n",
      "50\n",
      "34\n",
      "30\n",
      "17\n",
      "16\n",
      "12\n"
     ]
    }
   ],
   "source": [
    "# CALL BUBBLE SORT AND BENCHMARK IT\n",
    "# flag = 1 for ascending order.\n",
    "# flag = 2 for descending order.\n",
    "\n",
    "ascending = false\n",
    "descending = true\n",
    "\n",
    "listToSort = [17,16,30,12,34,50]\n",
    "\n",
    "println(\"Bubble Sort\")\n",
    "\n",
    "#Ascending order sort:\n",
    "\n",
    "println(\"\\nFor ascending order: \")\n",
    "\n",
    "@time bubbleSort(ascending, listToSort)\n",
    "   \n",
    "\n",
    "for i = 1:length(listToSort)\n",
    "\n",
    "    println(listToSort[i])\n",
    "\n",
    "end\n",
    "\n",
    "#Descending order sort:\n",
    "\n",
    "println(\"\\nFor descending order: \")\n",
    "\n",
    "@time bubbleSort(descending, listToSort)\n",
    "\n",
    "    \n",
    "\n",
    "for i = 1:length(listToSort)\n",
    "\n",
    "    println(listToSort[i])\n",
    "\n",
    "end"
   ]
  }
 ],
 "metadata": {
  "kernelspec": {
   "display_name": "Julia 1.6.2",
   "language": "julia",
   "name": "julia-1.6"
  },
  "language_info": {
   "file_extension": ".jl",
   "mimetype": "application/julia",
   "name": "julia",
   "version": "1.6.2"
  }
 },
 "nbformat": 4,
 "nbformat_minor": 5
}
